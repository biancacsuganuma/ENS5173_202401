{
 "cells": [
  {
   "cell_type": "code",
   "execution_count": null,
   "id": "bd0596bf-03fa-4124-8e17-b2bc3bf91238",
   "metadata": {},
   "outputs": [],
   "source": [
    "# Inicializa listas para concentrações\n",
    "concMP = np.zeros((df_expandido.shape[0], len(x_values)))\n",
    "concSO2 = np.zeros((df_expandido.shape[0], len(x_values)))\n",
    "concCO = np.zeros((df_expandido.shape[0], len(x_values)))\n",
    "\n",
    "# Calcular concentrações para cada linha do DataFrame\n",
    "for i in range(df_expandido.shape[0]):\n",
    "    u = df_expandido.loc[i, 'Veloc_Vento']\n",
    "    H_efetiva = df_expandido.loc[i, 'Hefetiva']\n",
    "    \n",
    "    for j, x in enumerate(x_values):\n",
    "        sigmaY = df_expandido.loc[i, f'sigmaY_{x}']\n",
    "        sigmaZ = df_expandido.loc[i, f'sigmaZ_{x}']\n",
    "        \n",
    "        # Calcular as concentrações limitando aos valores máximos\n",
    "        concMP[i, j] = np.minimum(modeloGaussiano(qsMP, sigmaY, sigmaZ, u, y, z, H), qsMP)\n",
    "        concSO2[i, j] = np.minimum(modeloGaussiano(qsSO2, sigmaY, sigmaZ, u, y, z, H), qsSO2)\n",
    "        concCO[i, j] = np.minimum(modeloGaussiano(qsCO, sigmaY, sigmaZ, u, y, z, H), qsCO)\n",
    "\n",
    "# Adiciona colunas de concentrações ao DataFrame para todas as distâncias x_values\n",
    "for j, x in enumerate(x_values):\n",
    "    df_expandido[f'concMP_{x}'] = concMP[:, j]\n",
    "    df_expandido[f'concSO2_{x}'] = concSO2[:, j]\n",
    "    df_expandido[f'concCO_{x}'] = concCO[:, j]\n",
    "\n",
    "# Verifica o DataFrame expandido com concentrações\n",
    "print(df_expandido)"
   ]
  }
 ],
 "metadata": {
  "kernelspec": {
   "display_name": "Python 3 (ipykernel)",
   "language": "python",
   "name": "python3"
  },
  "language_info": {
   "codemirror_mode": {
    "name": "ipython",
    "version": 3
   },
   "file_extension": ".py",
   "mimetype": "text/x-python",
   "name": "python",
   "nbconvert_exporter": "python",
   "pygments_lexer": "ipython3",
   "version": "3.11.8"
  }
 },
 "nbformat": 4,
 "nbformat_minor": 5
}
