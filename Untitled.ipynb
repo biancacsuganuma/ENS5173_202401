{
 "cells": [
  {
   "cell_type": "code",
   "execution_count": null,
   "id": "04ef0f39-2e68-4c89-8e88-56994d741a74",
   "metadata": {},
   "outputs": [],
   "source": [
    "#Aula 03/04/2024 - Comandos Básicos \n"
   ]
  }
 ],
 "metadata": {
  "kernelspec": {
   "display_name": "Python 3 (ipykernel)",
   "language": "python",
   "name": "python3"
  },
  "language_info": {
   "codemirror_mode": {
    "name": "ipython",
    "version": 3
   },
   "file_extension": ".py",
   "mimetype": "text/x-python",
   "name": "python",
   "nbconvert_exporter": "python",
   "pygments_lexer": "ipython3",
   "version": "3.11.8"
  }
 },
 "nbformat": 4,
 "nbformat_minor": 5
}
