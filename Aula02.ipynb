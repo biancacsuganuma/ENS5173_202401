{
 "cells": [
  {
   "cell_type": "code",
   "execution_count": null,
   "id": "c7a30890-28f9-4e09-9ae0-235642b29ee5",
   "metadata": {},
   "outputs": [],
   "source": [
    "#Aula 02 - Python\n",
    "#Dados numéricos"
   ]
  },
  {
   "cell_type": "code",
   "execution_count": 1,
   "id": "8e42c7b4-bc76-4f1a-a125-404a23b29511",
   "metadata": {},
   "outputs": [
    {
     "name": "stdout",
     "output_type": "stream",
     "text": [
      "Valor de a = 1\n"
     ]
    },
    {
     "data": {
      "text/plain": [
       "int"
      ]
     },
     "execution_count": 1,
     "metadata": {},
     "output_type": "execute_result"
    }
   ],
   "source": [
    "a = 1\n",
    "print('Valor de a = '+str(a))\n",
    "type(a)"
   ]
  },
  {
   "cell_type": "code",
   "execution_count": 2,
   "id": "22122a8a-3cb9-450e-b84a-96dc7474b97c",
   "metadata": {},
   "outputs": [
    {
     "name": "stdout",
     "output_type": "stream",
     "text": [
      "1.0\n"
     ]
    },
    {
     "data": {
      "text/plain": [
       "float"
      ]
     },
     "execution_count": 2,
     "metadata": {},
     "output_type": "execute_result"
    }
   ],
   "source": [
    "b = 1.0\n",
    "print(b)\n",
    "type(b)"
   ]
  },
  {
   "cell_type": "code",
   "execution_count": 3,
   "id": "384b9370-1cb6-4fbf-a6cf-20ff244cd0d7",
   "metadata": {},
   "outputs": [
    {
     "name": "stdout",
     "output_type": "stream",
     "text": [
      "1\n"
     ]
    },
    {
     "data": {
      "text/plain": [
       "int"
      ]
     },
     "execution_count": 3,
     "metadata": {},
     "output_type": "execute_result"
    }
   ],
   "source": [
    "c = int(b)\n",
    "print(c)\n",
    "type(c)"
   ]
  },
  {
   "cell_type": "code",
   "execution_count": 5,
   "id": "6e4076aa-b86e-46aa-ba17-38a6e84d1797",
   "metadata": {},
   "outputs": [
    {
     "name": "stdout",
     "output_type": "stream",
     "text": [
      "nan\n"
     ]
    },
    {
     "data": {
      "text/plain": [
       "float"
      ]
     },
     "execution_count": 5,
     "metadata": {},
     "output_type": "execute_result"
    }
   ],
   "source": [
    "# Declarando nan \n",
    "import numpy as np\n",
    "d = np.nan\n",
    "print(d)\n",
    "type(d)"
   ]
  },
  {
   "cell_type": "code",
   "execution_count": 6,
   "id": "2561d635-f3dc-46c4-a7d3-da3a211005d7",
   "metadata": {},
   "outputs": [
    {
     "name": "stdout",
     "output_type": "stream",
     "text": [
      "nan\n",
      "nan\n",
      "1.0\n"
     ]
    }
   ],
   "source": [
    "#Operação com NaN\n",
    "e = d*1\n",
    "print(e)\n",
    "e = d+1\n",
    "print(e)\n",
    "e = np.nansum([d,1])\n",
    "print(e)"
   ]
  },
  {
   "cell_type": "code",
   "execution_count": 7,
   "id": "7a8d9a6a-afa7-4e7c-bd88-5387cca26015",
   "metadata": {},
   "outputs": [
    {
     "name": "stdout",
     "output_type": "stream",
     "text": [
      "Fábio\n",
      "Gabriel\n",
      "FábioGabriel\n",
      "Fábio Gabriel\n"
     ]
    }
   ],
   "source": [
    "# Declaração de variável texto \n",
    "f = 'Fábio'\n",
    "g = \"Gabriel\"\n",
    "print(f)\n",
    "print(g)\n",
    "print(f+g)\n",
    "print(f+' '+g)"
   ]
  },
  {
   "cell_type": "code",
   "execution_count": null,
   "id": "566efd36-1c6d-471a-a9fc-487ddc94d429",
   "metadata": {},
   "outputs": [],
   "source": [
    "#Dados tipo bool - lógica"
   ]
  },
  {
   "cell_type": "code",
   "execution_count": 8,
   "id": "f2fce7c2-aa88-4678-a58b-ad9b9822050e",
   "metadata": {},
   "outputs": [
    {
     "data": {
      "text/plain": [
       "True"
      ]
     },
     "execution_count": 8,
     "metadata": {},
     "output_type": "execute_result"
    }
   ],
   "source": [
    "a == 1"
   ]
  },
  {
   "cell_type": "code",
   "execution_count": 9,
   "id": "c4420a8f-232e-41f8-9b9c-8163515863f4",
   "metadata": {},
   "outputs": [
    {
     "name": "stdout",
     "output_type": "stream",
     "text": [
      "True\n"
     ]
    },
    {
     "data": {
      "text/plain": [
       "bool"
      ]
     },
     "execution_count": 9,
     "metadata": {},
     "output_type": "execute_result"
    }
   ],
   "source": [
    "h = (a==1)\n",
    "print(h)\n",
    "type(h)"
   ]
  },
  {
   "cell_type": "code",
   "execution_count": 10,
   "id": "62a6b9d3-92dc-49e2-9844-48cc48c7df06",
   "metadata": {},
   "outputs": [
    {
     "name": "stdout",
     "output_type": "stream",
     "text": [
      "False\n"
     ]
    },
    {
     "data": {
      "text/plain": [
       "bool"
      ]
     },
     "execution_count": 10,
     "metadata": {},
     "output_type": "execute_result"
    }
   ],
   "source": [
    "h = (a==2)\n",
    "print(h)\n",
    "type(h)"
   ]
  },
  {
   "cell_type": "code",
   "execution_count": 11,
   "id": "173575f1-3f20-4396-9a5f-4bbd9caacb05",
   "metadata": {},
   "outputs": [
    {
     "data": {
      "text/plain": [
       "bool"
      ]
     },
     "execution_count": 11,
     "metadata": {},
     "output_type": "execute_result"
    }
   ],
   "source": [
    "i = True\n",
    "type(i)"
   ]
  },
  {
   "cell_type": "code",
   "execution_count": 12,
   "id": "c081b335-72ab-4ef6-9db3-2e5662f5cfbb",
   "metadata": {},
   "outputs": [
    {
     "data": {
      "text/plain": [
       "str"
      ]
     },
     "execution_count": 12,
     "metadata": {},
     "output_type": "execute_result"
    }
   ],
   "source": [
    "ii = 'True'\n",
    "type(ii)"
   ]
  },
  {
   "cell_type": "code",
   "execution_count": 13,
   "id": "206e5ba7-e6db-4b5f-84f1-ecfb77f5b97a",
   "metadata": {},
   "outputs": [
    {
     "data": {
      "text/plain": [
       "True"
      ]
     },
     "execution_count": 13,
     "metadata": {},
     "output_type": "execute_result"
    }
   ],
   "source": [
    "#Operação de comparação\n",
    "a==b"
   ]
  },
  {
   "cell_type": "code",
   "execution_count": 14,
   "id": "e3321e78-7339-4d0d-b476-346f7213cc9d",
   "metadata": {},
   "outputs": [
    {
     "data": {
      "text/plain": [
       "False"
      ]
     },
     "execution_count": 14,
     "metadata": {},
     "output_type": "execute_result"
    }
   ],
   "source": [
    "a>b"
   ]
  },
  {
   "cell_type": "code",
   "execution_count": 15,
   "id": "4d311b23-3206-462a-a048-2be24338d5a1",
   "metadata": {},
   "outputs": [
    {
     "data": {
      "text/plain": [
       "False"
      ]
     },
     "execution_count": 15,
     "metadata": {},
     "output_type": "execute_result"
    }
   ],
   "source": [
    "a!=b"
   ]
  },
  {
   "cell_type": "code",
   "execution_count": 16,
   "id": "51d5ddd9-1097-4e5d-8606-3e4bfce8cc7a",
   "metadata": {},
   "outputs": [
    {
     "data": {
      "text/plain": [
       "True"
      ]
     },
     "execution_count": 16,
     "metadata": {},
     "output_type": "execute_result"
    }
   ],
   "source": [
    "a>=b"
   ]
  },
  {
   "cell_type": "code",
   "execution_count": 17,
   "id": "6cac8ba2-ee54-42f0-bee2-f8387dec2683",
   "metadata": {},
   "outputs": [
    {
     "data": {
      "text/plain": [
       "2.0"
      ]
     },
     "execution_count": 17,
     "metadata": {},
     "output_type": "execute_result"
    }
   ],
   "source": [
    "#Operações matemáticas\n",
    "a+b"
   ]
  },
  {
   "cell_type": "code",
   "execution_count": 18,
   "id": "c4c9b5b1-ae43-4244-b73a-7bb42e045bd9",
   "metadata": {},
   "outputs": [
    {
     "name": "stdout",
     "output_type": "stream",
     "text": [
      "2.0\n"
     ]
    }
   ],
   "source": [
    "ab = a+b\n",
    "print(ab)"
   ]
  },
  {
   "cell_type": "code",
   "execution_count": 19,
   "id": "a4d880de-dbc5-4496-b94d-677b8956bc0e",
   "metadata": {},
   "outputs": [
    {
     "name": "stdout",
     "output_type": "stream",
     "text": [
      "Não use l como nome de variável\n",
      "1.0\n"
     ]
    }
   ],
   "source": [
    "l = a*b # Não use l como variável\n",
    "print(\"Não use l como nome de variável\")\n",
    "j = a*b\n",
    "print(j)"
   ]
  },
  {
   "cell_type": "code",
   "execution_count": 20,
   "id": "d63316df-9e84-40ba-b8c0-d249f66a290b",
   "metadata": {},
   "outputs": [
    {
     "data": {
      "text/plain": [
       "1.0"
      ]
     },
     "execution_count": 20,
     "metadata": {},
     "output_type": "execute_result"
    }
   ],
   "source": [
    "a/b"
   ]
  },
  {
   "cell_type": "code",
   "execution_count": 21,
   "id": "21e8d1e4-968f-4230-8e77-58118dcd855f",
   "metadata": {},
   "outputs": [
    {
     "data": {
      "text/plain": [
       "25"
      ]
     },
     "execution_count": 21,
     "metadata": {},
     "output_type": "execute_result"
    }
   ],
   "source": [
    "5**2"
   ]
  },
  {
   "cell_type": "code",
   "execution_count": 22,
   "id": "de981a7e-8f6a-4471-87ae-e43e0f437797",
   "metadata": {},
   "outputs": [
    {
     "data": {
      "text/plain": [
       "22026.465794806718"
      ]
     },
     "execution_count": 22,
     "metadata": {},
     "output_type": "execute_result"
    }
   ],
   "source": [
    "import math\n",
    "\n",
    "math.exp(10)"
   ]
  },
  {
   "cell_type": "code",
   "execution_count": 23,
   "id": "6f7cfe67-c912-4c60-b985-f5aeb102f756",
   "metadata": {},
   "outputs": [
    {
     "data": {
      "text/plain": [
       "1.0"
      ]
     },
     "execution_count": 23,
     "metadata": {},
     "output_type": "execute_result"
    }
   ],
   "source": [
    "math.exp(0)"
   ]
  },
  {
   "cell_type": "code",
   "execution_count": 24,
   "id": "4014f170-f76e-4019-8357-197eb2342a75",
   "metadata": {},
   "outputs": [
    {
     "data": {
      "text/plain": [
       "2.718281828459045"
      ]
     },
     "execution_count": 24,
     "metadata": {},
     "output_type": "execute_result"
    }
   ],
   "source": [
    "math.exp(a)"
   ]
  },
  {
   "cell_type": "code",
   "execution_count": 25,
   "id": "466603a9-a732-4130-ad07-959522c00272",
   "metadata": {},
   "outputs": [
    {
     "data": {
      "text/plain": [
       "4.5399929762484854e-05"
      ]
     },
     "execution_count": 25,
     "metadata": {},
     "output_type": "execute_result"
    }
   ],
   "source": [
    "math.exp(-10)"
   ]
  },
  {
   "cell_type": "code",
   "execution_count": 26,
   "id": "b7207863-c4d0-4785-9c58-7b61a98decb6",
   "metadata": {},
   "outputs": [
    {
     "data": {
      "text/plain": [
       "0.0"
      ]
     },
     "execution_count": 26,
     "metadata": {},
     "output_type": "execute_result"
    }
   ],
   "source": [
    "import math as mt\n",
    "mt.log(c)"
   ]
  },
  {
   "cell_type": "code",
   "execution_count": 27,
   "id": "c409be82-4b8d-4a0d-9249-9076ae718d0d",
   "metadata": {},
   "outputs": [
    {
     "data": {
      "text/plain": [
       "2.0"
      ]
     },
     "execution_count": 27,
     "metadata": {},
     "output_type": "execute_result"
    }
   ],
   "source": [
    "\n",
    "mt.log10(100)"
   ]
  },
  {
   "cell_type": "code",
   "execution_count": 28,
   "id": "7b66b464-451a-4aab-a487-4f08acccc52d",
   "metadata": {},
   "outputs": [
    {
     "name": "stdout",
     "output_type": "stream",
     "text": [
      "[1, 2, 3]\n"
     ]
    }
   ],
   "source": [
    "myFirstList = [1,2,3]\n",
    "print(myFirstList)"
   ]
  },
  {
   "cell_type": "code",
   "execution_count": 29,
   "id": "5ef47508-e8fd-4629-8782-4032b6a071f5",
   "metadata": {},
   "outputs": [
    {
     "name": "stdout",
     "output_type": "stream",
     "text": [
      "1\n",
      "3\n"
     ]
    }
   ],
   "source": [
    "print(myFirstList[0])\n",
    "print(myFirstList[2])"
   ]
  },
  {
   "cell_type": "code",
   "execution_count": 30,
   "id": "c1deb031-e320-40ed-8dec-54f7ecfa36b5",
   "metadata": {},
   "outputs": [
    {
     "data": {
      "text/plain": [
       "False"
      ]
     },
     "execution_count": 30,
     "metadata": {},
     "output_type": "execute_result"
    }
   ],
   "source": [
    "\n",
    "myFirstList==a"
   ]
  },
  {
   "cell_type": "code",
   "execution_count": 31,
   "id": "5b42c79e-e630-4046-b37c-e7cbc3cbaa25",
   "metadata": {},
   "outputs": [
    {
     "name": "stdout",
     "output_type": "stream",
     "text": [
      "[1, 1, 'c']\n"
     ]
    }
   ],
   "source": [
    "mySecList = [1,a,'c']\n",
    "print(mySecList)"
   ]
  },
  {
   "cell_type": "code",
   "execution_count": 32,
   "id": "13c7ccca-24f6-4ac7-a4a5-1f66f518bdc3",
   "metadata": {},
   "outputs": [
    {
     "data": {
      "text/plain": [
       "list"
      ]
     },
     "execution_count": 32,
     "metadata": {},
     "output_type": "execute_result"
    }
   ],
   "source": [
    "\n",
    "type(mySecList)"
   ]
  },
  {
   "cell_type": "code",
   "execution_count": 33,
   "id": "44481bed-b993-4950-b70e-ffd505431c59",
   "metadata": {},
   "outputs": [
    {
     "data": {
      "text/plain": [
       "str"
      ]
     },
     "execution_count": 33,
     "metadata": {},
     "output_type": "execute_result"
    }
   ],
   "source": [
    "type(mySecList[2])"
   ]
  },
  {
   "cell_type": "code",
   "execution_count": 35,
   "id": "4003a1e9-1908-4fe6-ab80-57c7286aed5e",
   "metadata": {},
   "outputs": [
    {
     "data": {
      "text/plain": [
       "int"
      ]
     },
     "execution_count": 35,
     "metadata": {},
     "output_type": "execute_result"
    }
   ],
   "source": [
    "type(mySecList[1])"
   ]
  },
  {
   "cell_type": "code",
   "execution_count": 36,
   "id": "8135a21c-b906-4a59-beec-e56f3a5af3bc",
   "metadata": {},
   "outputs": [
    {
     "name": "stdout",
     "output_type": "stream",
     "text": [
      "C:\\Users\\Leonardo.Hoinaski\\Documents\\ENS410064_1\n"
     ]
    }
   ],
   "source": [
    "path = r\"C:\\Users\\PC\\Documents\\GitHub\\ENS5173_202401\"\n",
    "print(path)"
   ]
  },
  {
   "cell_type": "code",
   "execution_count": 39,
   "id": "8d92281a-a1ff-46d3-9a07-0a1919c56972",
   "metadata": {},
   "outputs": [
    {
     "name": "stdout",
     "output_type": "stream",
     "text": [
      "C:\\Users\\PC\\Documents\\GitHub\\ENS5173_202401\n"
     ]
    }
   ],
   "source": [
    "path = r\"C:\\Users\\PC\\Documents\\GitHub\\ENS5173_202401\"\n",
    "print(path)"
   ]
  },
  {
   "cell_type": "code",
   "execution_count": 40,
   "id": "9cbf3108-fbc3-444f-92b7-fda7b44d326f",
   "metadata": {},
   "outputs": [
    {
     "data": {
      "text/plain": [
       "['.git', '.gitignore', 'README.md', 'Scripts', 'Untitled.ipynb', 'venv']"
      ]
     },
     "execution_count": 40,
     "metadata": {},
     "output_type": "execute_result"
    }
   ],
   "source": [
    "import os\n",
    "os.listdir(path)"
   ]
  },
  {
   "cell_type": "code",
   "execution_count": 41,
   "id": "5f335f35-1bb1-452f-9b54-f686b2afd742",
   "metadata": {},
   "outputs": [
    {
     "data": {
      "text/plain": [
       "'.git'"
      ]
     },
     "execution_count": 41,
     "metadata": {},
     "output_type": "execute_result"
    }
   ],
   "source": [
    "os.listdir(path)[0]\n"
   ]
  },
  {
   "cell_type": "code",
   "execution_count": 42,
   "id": "f2bc0f92-9074-410c-b71c-17356877a7ab",
   "metadata": {},
   "outputs": [
    {
     "data": {
      "text/plain": [
       "'C:\\\\Users\\\\PC\\\\Documents\\\\GitHub\\\\ENS5173_202401/.git'"
      ]
     },
     "execution_count": 42,
     "metadata": {},
     "output_type": "execute_result"
    }
   ],
   "source": [
    "path+\"/\"+os.listdir(path)[0]"
   ]
  },
  {
   "cell_type": "code",
   "execution_count": 43,
   "id": "4c3823ed-1826-44f5-9a1b-495651d28173",
   "metadata": {},
   "outputs": [
    {
     "data": {
      "text/plain": [
       "['COMMIT_EDITMSG',\n",
       " 'config',\n",
       " 'description',\n",
       " 'FETCH_HEAD',\n",
       " 'HEAD',\n",
       " 'hooks',\n",
       " 'index',\n",
       " 'info',\n",
       " 'logs',\n",
       " 'objects',\n",
       " 'packed-refs',\n",
       " 'refs']"
      ]
     },
     "execution_count": 43,
     "metadata": {},
     "output_type": "execute_result"
    }
   ],
   "source": [
    "os.listdir(path+\"/\"+os.listdir(path)[0])"
   ]
  },
  {
   "cell_type": "code",
   "execution_count": 44,
   "id": "43cee6b4-25b2-4558-83f8-426e05f1d261",
   "metadata": {},
   "outputs": [
    {
     "data": {
      "text/plain": [
       "'C:\\\\Users\\\\PC\\\\venv\\\\Scripts'"
      ]
     },
     "execution_count": 44,
     "metadata": {},
     "output_type": "execute_result"
    }
   ],
   "source": [
    "os.getcwd()"
   ]
  },
  {
   "cell_type": "code",
   "execution_count": 45,
   "id": "14eee27a-17f0-4345-ad36-98398a99c47c",
   "metadata": {},
   "outputs": [],
   "source": [
    "os.chdir('C:\\\\Users\\\\PC\\\\Documents\\\\')"
   ]
  },
  {
   "cell_type": "code",
   "execution_count": 46,
   "id": "aa87d774-74c3-4e34-b873-866d2d1dab07",
   "metadata": {},
   "outputs": [
    {
     "data": {
      "text/plain": [
       "'C:\\\\Users\\\\PC\\\\Documents'"
      ]
     },
     "execution_count": 46,
     "metadata": {},
     "output_type": "execute_result"
    }
   ],
   "source": [
    "os.getcwd()"
   ]
  },
  {
   "cell_type": "code",
   "execution_count": 47,
   "id": "8fd3d3af-a9e6-4eda-8acb-a70f68a5c7aa",
   "metadata": {},
   "outputs": [
    {
     "name": "stdout",
     "output_type": "stream",
     "text": [
      "Criando diretório C:\\Users\\PC\\Documents/test\n"
     ]
    }
   ],
   "source": [
    "new_path = os.getcwd()+'/test'\n",
    "\n",
    "if os.path.isdir(new_path):\n",
    "    print('diretório já existe')\n",
    "else:\n",
    "    print('Criando diretório '+new_path)\n",
    "    os.mkdir(new_path)"
   ]
  },
  {
   "cell_type": "code",
   "execution_count": 48,
   "id": "4cf1f02f-6d73-44b6-b942-20bb290113ad",
   "metadata": {},
   "outputs": [
    {
     "name": "stdout",
     "output_type": "stream",
     "text": [
      "Criando diretório C:\\Users\\PC\\Documents/test2\n"
     ]
    }
   ],
   "source": [
    "new_path = os.getcwd()+'/test2'\n",
    "\n",
    "if os.path.isdir(new_path):\n",
    "    print('diretório já existe')\n",
    "    # Criando um arquivo de texto\n",
    "    with open(new_path+\"/copy.txt\", \"w\") as file:\n",
    "        file.write(\"Your text goes here\")\n",
    "else:\n",
    "    print('Criando diretório '+new_path)\n",
    "    os.mkdir(new_path)\n",
    "    with open(new_path+\"/copy.txt\", \"w\") as file:\n",
    "        file.write(\"Your text goes here\")"
   ]
  },
  {
   "cell_type": "code",
   "execution_count": 49,
   "id": "d9f87dd7-6f1f-4207-a41e-dff7439d733e",
   "metadata": {},
   "outputs": [
    {
     "data": {
      "text/plain": [
       "numpy.ndarray"
      ]
     },
     "execution_count": 49,
     "metadata": {},
     "output_type": "execute_result"
    }
   ],
   "source": [
    "import numpy as np\n",
    "n = np.array(0)\n",
    "type(n)"
   ]
  },
  {
   "cell_type": "code",
   "execution_count": 50,
   "id": "1d4e1f13-658c-43e3-bbf7-8216cd090029",
   "metadata": {},
   "outputs": [
    {
     "name": "stdout",
     "output_type": "stream",
     "text": [
      "[ 1  2  3 10 20 55]\n"
     ]
    }
   ],
   "source": [
    "myThirdList=[1,2,3,10,20,55]\n",
    "n = np.array(myThirdList)\n",
    "print(n)"
   ]
  },
  {
   "cell_type": "code",
   "execution_count": 51,
   "id": "20084c95-24bb-425b-9338-422884f589e2",
   "metadata": {},
   "outputs": [
    {
     "name": "stdout",
     "output_type": "stream",
     "text": [
      "[[4.13126680e-01 9.52253081e-01 2.29723251e-01 9.60260466e-01\n",
      "  2.94263615e-01 6.53372641e-01 8.59610857e-01 1.34836474e-01\n",
      "  4.73869160e-01 5.10226424e-01]\n",
      " [7.53101396e-01 6.23716665e-01 2.59638852e-01 4.89572893e-01\n",
      "  1.48184162e-01 3.01545069e-01 8.42080320e-01 1.02265213e-02\n",
      "  7.50410950e-01 7.79711525e-01]\n",
      " [8.82501853e-02 3.55047712e-01 3.39244209e-01 2.59716292e-01\n",
      "  3.81198301e-01 5.93916146e-01 6.01172737e-01 9.18544145e-01\n",
      "  1.48941275e-01 2.67027650e-02]\n",
      " [4.50315138e-01 9.98213041e-01 9.36592151e-01 5.36901837e-01\n",
      "  4.00209224e-01 4.42503946e-01 5.86294188e-01 9.64008121e-01\n",
      "  1.35695688e-01 7.66117015e-01]\n",
      " [4.51258718e-02 8.31026955e-01 9.12336135e-01 6.77530524e-01\n",
      "  2.49284807e-01 5.77805156e-01 7.00622429e-01 7.70246708e-01\n",
      "  5.47385322e-01 3.80274645e-01]\n",
      " [5.08323479e-02 5.24106480e-01 2.25403996e-01 3.44849996e-01\n",
      "  3.65651145e-01 1.81516547e-01 5.44065583e-02 8.80780231e-01\n",
      "  3.70464676e-01 9.31410422e-01]\n",
      " [4.45499969e-01 9.24944415e-04 3.79062273e-01 7.54469889e-01\n",
      "  5.72742369e-01 8.92211894e-01 6.39837234e-01 2.24044656e-01\n",
      "  3.99431626e-01 1.59285184e-01]\n",
      " [3.36706712e-01 7.32976419e-01 3.43346201e-01 2.66124184e-01\n",
      "  2.03862842e-01 6.52472833e-01 1.92748079e-01 1.57710310e-02\n",
      "  8.60061761e-01 6.29203331e-01]\n",
      " [2.95029931e-01 6.49994408e-01 1.21561096e-01 7.97693651e-01\n",
      "  4.15712759e-01 8.78495196e-01 7.88776547e-01 2.84330215e-01\n",
      "  6.08801649e-01 8.25446918e-01]\n",
      " [7.72928720e-01 7.65771033e-01 6.97164177e-01 5.92474388e-01\n",
      "  9.93342169e-01 8.18997738e-02 5.36247779e-01 4.41868509e-01\n",
      "  6.18248145e-01 7.28313012e-01]]\n",
      "(10, 10)\n"
     ]
    }
   ],
   "source": [
    "n = np.random.rand(10,10)\n",
    "print(n)\n",
    "print(n.shape)\n"
   ]
  },
  {
   "cell_type": "code",
   "execution_count": 52,
   "id": "e6bb9a62-cbdb-4e7b-9c50-dda36230da22",
   "metadata": {},
   "outputs": [
    {
     "data": {
      "text/plain": [
       "array([0.41312668, 0.95225308, 0.22972325, 0.96026047, 0.29426362,\n",
       "       0.65337264, 0.85961086, 0.13483647, 0.47386916, 0.51022642])"
      ]
     },
     "execution_count": 52,
     "metadata": {},
     "output_type": "execute_result"
    }
   ],
   "source": [
    "n[0,:]"
   ]
  },
  {
   "cell_type": "code",
   "execution_count": 53,
   "id": "b13232f2-3cbd-4f38-ac60-d1ae385dac02",
   "metadata": {},
   "outputs": [
    {
     "data": {
      "text/plain": [
       "array([0.41312668, 0.7531014 , 0.08825019, 0.45031514, 0.04512587,\n",
       "       0.05083235, 0.44549997, 0.33670671, 0.29502993, 0.77292872])"
      ]
     },
     "execution_count": 53,
     "metadata": {},
     "output_type": "execute_result"
    }
   ],
   "source": [
    "\n",
    "n[:,0]"
   ]
  },
  {
   "cell_type": "code",
   "execution_count": 56,
   "id": "9ea9f7a9-2965-4170-aafe-d7b4bccd6514",
   "metadata": {},
   "outputs": [
    {
     "data": {
      "text/plain": [
       "array([[9.52253081e-01, 2.29723251e-01, 9.60260466e-01, 2.94263615e-01],\n",
       "       [6.23716665e-01, 2.59638852e-01, 4.89572893e-01, 1.48184162e-01],\n",
       "       [3.55047712e-01, 3.39244209e-01, 2.59716292e-01, 3.81198301e-01],\n",
       "       [9.98213041e-01, 9.36592151e-01, 5.36901837e-01, 4.00209224e-01],\n",
       "       [8.31026955e-01, 9.12336135e-01, 6.77530524e-01, 2.49284807e-01],\n",
       "       [5.24106480e-01, 2.25403996e-01, 3.44849996e-01, 3.65651145e-01],\n",
       "       [9.24944415e-04, 3.79062273e-01, 7.54469889e-01, 5.72742369e-01],\n",
       "       [7.32976419e-01, 3.43346201e-01, 2.66124184e-01, 2.03862842e-01],\n",
       "       [6.49994408e-01, 1.21561096e-01, 7.97693651e-01, 4.15712759e-01],\n",
       "       [7.65771033e-01, 6.97164177e-01, 5.92474388e-01, 9.93342169e-01]])"
      ]
     },
     "execution_count": 56,
     "metadata": {},
     "output_type": "execute_result"
    }
   ],
   "source": [
    "n[:,1:5]"
   ]
  },
  {
   "cell_type": "code",
   "execution_count": 58,
   "id": "9c984cc2-1021-4e02-a0ff-3d6bb668c8e3",
   "metadata": {},
   "outputs": [
    {
     "data": {
      "text/plain": [
       "array([0.95225308, 0.22972325, 0.96026047, 0.29426362])"
      ]
     },
     "execution_count": 58,
     "metadata": {},
     "output_type": "execute_result"
    }
   ],
   "source": [
    "n[0,1:5]"
   ]
  },
  {
   "cell_type": "code",
   "execution_count": 59,
   "id": "2d188d5d-3263-4600-9bbd-45f86d04d34b",
   "metadata": {},
   "outputs": [
    {
     "data": {
      "text/plain": [
       "0.5102264239763293"
      ]
     },
     "execution_count": 59,
     "metadata": {},
     "output_type": "execute_result"
    }
   ],
   "source": [
    "n[0,-1]"
   ]
  },
  {
   "cell_type": "code",
   "execution_count": 60,
   "id": "8ea6acd5-2561-4184-a7dc-8c342467dada",
   "metadata": {},
   "outputs": [
    {
     "data": {
      "text/plain": [
       "array([0.29426362, 0.65337264, 0.85961086, 0.13483647, 0.47386916])"
      ]
     },
     "execution_count": 60,
     "metadata": {},
     "output_type": "execute_result"
    }
   ],
   "source": [
    "\n",
    "n[0,4:-1]"
   ]
  },
  {
   "cell_type": "code",
   "execution_count": 61,
   "id": "40113585-93bb-4a64-a45f-db6dd4f7c266",
   "metadata": {},
   "outputs": [
    {
     "data": {
      "text/plain": [
       "array([0.29426362, 0.65337264, 0.85961086, 0.13483647, 0.47386916,\n",
       "       0.51022642])"
      ]
     },
     "execution_count": 61,
     "metadata": {},
     "output_type": "execute_result"
    }
   ],
   "source": [
    "n[0,4:]"
   ]
  },
  {
   "cell_type": "code",
   "execution_count": 62,
   "id": "ecf535a0-6bda-400e-8031-95675fd50b7d",
   "metadata": {},
   "outputs": [
    {
     "name": "stdout",
     "output_type": "stream",
     "text": [
      "[[ 0.72543691  1.56051347  0.13855796  1.5688872   0.38615865  1.18383026\n",
      "   1.45816243 -0.39425463  0.86261388  0.93653723]\n",
      " [ 1.32588251  1.13737884  0.26097427  0.895216   -0.29986153  0.41060212\n",
      "   1.43755803 -2.9733329   1.32230362  1.36060664]\n",
      " [-0.81814157  0.57393481  0.52840286  0.26127248  0.64500235  1.08842077\n",
      "   1.10056494  1.5244726  -0.29476527 -2.01355025]\n",
      " [ 0.81163028  1.60764936  1.54393055  0.98749791  0.6936701   0.79413202\n",
      "   1.07550432  1.57278235 -0.38790258  1.34301755]\n",
      " [-1.48886163  1.42434486  1.51769112  1.22013724  0.22027868  1.06091935\n",
      "   1.25365176  1.3483935   1.00683562  0.64257637]\n",
      " [-1.36978445  0.9633775   0.11957696  0.54479216  0.60336236 -0.09697055\n",
      "  -1.30183266  1.48249077  0.61644073  1.53838265]\n",
      " [ 0.80087981 -5.376339    0.63938313  1.327698    1.05211863  1.49538629\n",
      "   1.16289646  0.11352802  0.69172524 -0.22762116]\n",
      " [ 0.52089489  1.29879616  0.5404219   0.28564569  0.01913006  1.18245214\n",
      "  -0.03693332 -2.54014259  1.45868684  1.1461371 ]\n",
      " [ 0.38875945  1.17864639 -0.49790038  1.38340726  0.73167717  1.47989307\n",
      "   1.3721657   0.35181892  1.11317515  1.41760759]\n",
      " [ 1.35186947  1.34256585  1.24870356  1.08599028  1.60275782 -0.89282114\n",
      "   0.98627896  0.79269498  1.12857254  1.29241355]]\n"
     ]
    }
   ],
   "source": [
    "an = np.log(n*5)\n",
    "print(an)"
   ]
  },
  {
   "cell_type": "code",
   "execution_count": null,
   "id": "47372b35-2cce-4e05-a2e8-02ae4cd120fc",
   "metadata": {},
   "outputs": [],
   "source": []
  }
 ],
 "metadata": {
  "kernelspec": {
   "display_name": "Python 3 (ipykernel)",
   "language": "python",
   "name": "python3"
  },
  "language_info": {
   "codemirror_mode": {
    "name": "ipython",
    "version": 3
   },
   "file_extension": ".py",
   "mimetype": "text/x-python",
   "name": "python",
   "nbconvert_exporter": "python",
   "pygments_lexer": "ipython3",
   "version": "3.11.8"
  }
 },
 "nbformat": 4,
 "nbformat_minor": 5
}
