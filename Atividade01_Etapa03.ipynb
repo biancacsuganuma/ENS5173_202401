{
 "cells": [
  {
   "cell_type": "code",
   "execution_count": 5,
   "id": "dd438164-3164-4559-b0b6-722a4ba4ea3a",
   "metadata": {},
   "outputs": [],
   "source": [
    "# O código irá gerar números aleatórios representando A PRODUÇÃO DE QUEIJO COLONIAL ARTESANAL NO MUNICÍPIO DE SEARA, ESTADO DE SANTA CATARINA\n",
    "# Será colocado um vol mínimo e máximo de leite necessário para a produção\n",
    "\n",
    "\n",
    "# importando a biblioteca pandas para gerar um dataframe\n",
    "import pandas as pd\n",
    "# importando a biblioteca random para gerar números aleatórios\n",
    "import random\n",
    "# função que vai receber o número de dias, os quais serão gerados os dados  \n",
    "def dados_produçao_queijo(numero_de_dias):\n",
    "#parâmetros, com o intervalo de litros necessários definido\n",
    "    litros_min = 15\n",
    "    litros_max = 280\n",
    "# foi criado um dicionário, com as chaves e seus respectivos valores (listas), serão os títulos das colunas do df\n",
    "    dados = {'Dia': [], 'Litros Necessários': []}\n",
    "# foi feita uma interação sobre cada dia no intervalo especificado (numero_de_dias), gerando uma quantidade aleatória de litros de leite\n",
    "        litros_necessarios = random.uniform(litros_min, litros_max)\n",
    "        dados['Dia'].append(dia)\n",
    "        dados['Litros Necessários'].append(litros_necessarios)\n",
    "    return pd.DataFrame(dados)"
   ]
  },
  {
   "cell_type": "code",
   "execution_count": 6,
   "id": "20edcb3a-98b6-4888-a96f-85ab5509f253",
   "metadata": {},
   "outputs": [
    {
     "name": "stdout",
     "output_type": "stream",
     "text": [
      "    Dia  Litros Necessários\n",
      "0     1          119.189529\n",
      "1     2          139.090285\n",
      "2     3           44.905958\n",
      "3     4          100.918715\n",
      "4     5          139.698088\n",
      "5     6           70.642722\n",
      "6     7          149.504661\n",
      "7     8          172.113001\n",
      "8     9           84.545481\n",
      "9    10           38.019122\n",
      "10   11           86.590075\n",
      "11   12           92.239236\n",
      "12   13           95.954546\n",
      "13   14           61.170904\n",
      "14   15          184.794313\n",
      "15   16           36.632076\n",
      "16   17          122.689127\n",
      "17   18           56.134387\n",
      "18   19          109.465434\n",
      "19   20          118.746831\n",
      "20   21           38.731432\n",
      "21   22           33.064745\n",
      "22   23           82.341468\n",
      "23   24           75.693916\n",
      "24   25           48.076496\n",
      "25   26          193.400909\n",
      "26   27          155.715766\n",
      "27   28          255.073434\n",
      "28   29           29.999449\n",
      "29   30          267.000952\n"
     ]
    }
   ],
   "source": [
    "# período definido \n",
    "numero_de_dias = 30\n",
    "\n",
    "# Gerando e exibir os dados\n",
    "atividade_industrial = dados_produçao_queijo(numero_de_dias)\n",
    "print(atividade_industrial)"
   ]
  }
 ],
 "metadata": {
  "kernelspec": {
   "display_name": "Python 3 (ipykernel)",
   "language": "python",
   "name": "python3"
  },
  "language_info": {
   "codemirror_mode": {
    "name": "ipython",
    "version": 3
   },
   "file_extension": ".py",
   "mimetype": "text/x-python",
   "name": "python",
   "nbconvert_exporter": "python",
   "pygments_lexer": "ipython3",
   "version": "3.11.8"
  }
 },
 "nbformat": 4,
 "nbformat_minor": 5
}
