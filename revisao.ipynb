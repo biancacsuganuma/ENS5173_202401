{
 "cells": [
  {
   "cell_type": "code",
   "execution_count": 2,
   "id": "25bf33e5-e805-4e0b-8cec-482e9f752f60",
   "metadata": {},
   "outputs": [
    {
     "name": "stdout",
     "output_type": "stream",
     "text": [
      "Guilherme gente fina\n"
     ]
    }
   ],
   "source": [
    "#tipos de variáveis \n",
    "a = 'Guilherme '\n",
    "b = a + 'gente fina'\n",
    "print(b)"
   ]
  },
  {
   "cell_type": "code",
   "execution_count": 3,
   "id": "3eaf5f43-a2a3-47c3-8905-4da7dd6abcc0",
   "metadata": {},
   "outputs": [],
   "source": [
    "#Tipos de variáveis - inteira "
   ]
  },
  {
   "cell_type": "code",
   "execution_count": 5,
   "id": "a22b3e11-c843-4ecc-8634-757b731ba1cf",
   "metadata": {},
   "outputs": [
    {
     "name": "stdout",
     "output_type": "stream",
     "text": [
      "11\n",
      "<class 'int'>\n"
     ]
    }
   ],
   "source": [
    "c = 1\n",
    "d = c + 10 \n",
    "print (d)\n",
    "print(type(d))"
   ]
  },
  {
   "cell_type": "code",
   "execution_count": 6,
   "id": "17a8cac4-ac1c-4de8-b731-49ebec04ac70",
   "metadata": {},
   "outputs": [],
   "source": [
    "#Tipos de variávei float "
   ]
  },
  {
   "cell_type": "code",
   "execution_count": 10,
   "id": "4bb0d10b-be16-4fc7-83f2-a05363061eff",
   "metadata": {},
   "outputs": [
    {
     "ename": "SyntaxError",
     "evalue": "unmatched ')' (2077815341.py, line 7)",
     "output_type": "error",
     "traceback": [
      "\u001b[1;36m  Cell \u001b[1;32mIn[10], line 7\u001b[1;36m\u001b[0m\n\u001b[1;33m    print('valor d g = '+str(g) + ' do tipo = ' +str(type(f))))\u001b[0m\n\u001b[1;37m                                                              ^\u001b[0m\n\u001b[1;31mSyntaxError\u001b[0m\u001b[1;31m:\u001b[0m unmatched ')'\n"
     ]
    }
   ],
   "source": [
    "f = 10.5 \n",
    "g = f*2\n",
    "h = f**2\n",
    "print ('valor d g = '+str(g) + ' e o valor de h = ' +str(h))\n",
    "print (type(h))\n",
    "f = int(f)\n",
    "print('valor d g = '+str(g) + ' do tipo = ' +str(type(f))))"
   ]
  },
  {
   "cell_type": "code",
   "execution_count": 15,
   "id": "b8f355a1-e912-400c-b8e5-a0e2302cf88e",
   "metadata": {},
   "outputs": [
    {
     "name": "stdout",
     "output_type": "stream",
     "text": [
      "[4, 6, 6]\n",
      "<class 'list'>\n"
     ]
    }
   ],
   "source": [
    "# Exemplo de dicionário \n",
    "dicionario = {\n",
    "    'alunos': ['Guilherme', 'Flavia', 'Lucas'],\n",
    "    'notas': [ 4, 6, 6]}\n",
    "print(dicionario ['notas'])\n",
    "print(type(dicionario ['notas']))\n",
    "\n",
    "   "
   ]
  },
  {
   "cell_type": "code",
   "execution_count": 18,
   "id": "dcf4b29b-3fdd-41d9-98e2-749fb1f2ee36",
   "metadata": {},
   "outputs": [
    {
     "ename": "SyntaxError",
     "evalue": "unmatched ')' (3657491257.py, line 3)",
     "output_type": "error",
     "traceback": [
      "\u001b[1;36m  Cell \u001b[1;32mIn[18], line 3\u001b[1;36m\u001b[0m\n\u001b[1;33m    print(str(ii)) + ' '+ aluno + ' nota = ' + str (dicionario ['notas'][ii]))\u001b[0m\n\u001b[1;37m                                                                             ^\u001b[0m\n\u001b[1;31mSyntaxError\u001b[0m\u001b[1;31m:\u001b[0m unmatched ')'\n"
     ]
    }
   ],
   "source": [
    "# Treinando Loop \n",
    "for ii, aluno in enumerate (dicionario['alunos']):\n",
    "    print(str(ii)) + ' '+ aluno + ' nota = ' + str (dicionario ['notas'][ii]))\n",
    "print(' ')\n",
    "for ii in range(0,len(dicionario['alunos'])): \n",
    "    print(str(ii)\n",
    "          "
   ]
  },
  {
   "cell_type": "code",
   "execution_count": 24,
   "id": "c42e4e89-0755-4979-b3ce-aa452341f5ee",
   "metadata": {},
   "outputs": [
    {
     "name": "stdout",
     "output_type": "stream",
     "text": [
      "False\n",
      "False\n",
      "True\n",
      "True\n",
      "<class 'bool'>\n"
     ]
    }
   ],
   "source": [
    "# Operações lógicas \n",
    "a = 1\n",
    "b = 3\n",
    "c = 1 \n",
    "print(a==b) # 'Igual a'- operação lógica \n",
    "print(a>b)# maior que \n",
    "print (a>=c) # maior ou igual \n",
    "print(a!=b) # diferente de \n",
    "\n",
    "opTF = a!= c \n",
    "print(type(opTF))\n",
    "\n",
    "optT = True \n",
    "optF = False "
   ]
  },
  {
   "cell_type": "code",
   "execution_count": 27,
   "id": "bb57ea48-04a0-4b97-915d-2d399316d244",
   "metadata": {},
   "outputs": [
    {
     "name": "stdout",
     "output_type": "stream",
     "text": [
      "['Guilherme' 'Flavia' 'Lucas']\n",
      "<class 'numpy.ndarray'>\n",
      "\n",
      "[False False  True]\n"
     ]
    }
   ],
   "source": [
    "# Treinando numpy \n",
    "import numpy as np \n",
    "mat = np.array(dicionario['alunos'])\n",
    "\n",
    "# Convertendo para numpy \n",
    "mat = np.array(dicionario['alunos'])\n",
    "print(mat)\n",
    "print(type(mat))\n",
    "\n",
    "print('')\n",
    "mat2 = np.array(mat=='Lucas')\n",
    "print(mat2)\n",
    "# Local da matriz com valor verdadeiro \n",
    "\n",
    "\n"
   ]
  },
  {
   "cell_type": "code",
   "execution_count": 28,
   "id": "13188f09-4708-4a2f-aec2-4fc6f8a3632f",
   "metadata": {},
   "outputs": [
    {
     "name": "stdout",
     "output_type": "stream",
     "text": [
      "[0.27559924 0.53782865 0.65405896 0.9127132  0.365049   0.33439022\n",
      " 0.69315825 0.06367028 0.34958968 0.95441477 0.69179674 0.36874721\n",
      " 0.48561713 0.69293442 0.25585716 0.18064461 0.94612924 0.82442729\n",
      " 0.82970943 0.79082913 0.76948956 0.29486518 0.24783334 0.08738163\n",
      " 0.88014845 0.85165222 0.56563822 0.98326444 0.52049003 0.92738911\n",
      " 0.6538304  0.27288862 0.39141644 0.3283514  0.17472224 0.74787702\n",
      " 0.76993416 0.26122093 0.51871714 0.53309131 0.86708788 0.75445759\n",
      " 0.07943651 0.5559365  0.97015793 0.5870421  0.56511348 0.14452222\n",
      " 0.71089427 0.27308411 0.81813862 0.51578296 0.22415422 0.85457619\n",
      " 0.83077919 0.12623388 0.7783049  0.2897542  0.85100572 0.58340908\n",
      " 0.37223393 0.63431936 0.39181151 0.36563212 0.79285359 0.35593549\n",
      " 0.70101934 0.30543174 0.22144226 0.38388601 0.2079555  0.20589041\n",
      " 0.09317162 0.66041732 0.95177979 0.76353412 0.5664985  0.07574272\n",
      " 0.33041406 0.82709239 0.35255336 0.54570411 0.39406278 0.38235511\n",
      " 0.65371625 0.92084093 0.61658071 0.99812207 0.11694984 0.78598671\n",
      " 0.16544543 0.54116826 0.25840052 0.86310245 0.76934568 0.34746264\n",
      " 0.94168304 0.05455075 0.67809522 0.11704286]\n",
      "[0.27212362 0.51227239 0.60841268 0.79116605 0.35699507 0.32819322\n",
      " 0.63896979 0.06362727 0.34251233 0.81597557 0.63792188 0.36044714\n",
      " 0.46675423 0.6387976  0.25307476 0.17966374 0.81115786 0.73415905\n",
      " 0.73773524 0.71093661 0.6957687  0.29061086 0.24530408 0.08727047\n",
      " 0.77083345 0.75236982 0.53595474 0.83231131 0.49730534 0.80005633\n",
      " 0.60823128 0.26951429 0.38149811 0.32248294 0.17383462 0.68008386\n",
      " 0.69608797 0.25826026 0.49576644 0.50819812 0.76244789 0.68489355\n",
      " 0.079353   0.527739   0.82497498 0.55390076 0.53551165 0.14401965\n",
      " 0.65251169 0.26970253 0.72987469 0.4932161  0.22228182 0.75429274\n",
      " 0.73845701 0.12589889 0.70207334 0.28571668 0.75194379 0.55087231\n",
      " 0.36369728 0.59262941 0.38186327 0.3575397  0.71235886 0.34846738\n",
      " 0.64499699 0.30070496 0.21963689 0.37452646 0.20645988 0.20443884\n",
      " 0.09303688 0.61344648 0.81444949 0.6914788  0.53668083 0.07567032\n",
      " 0.32443472 0.73596598 0.34529525 0.51902007 0.38394297 0.37310654\n",
      " 0.60814067 0.79611079 0.57824888 0.84045485 0.11668343 0.70752282\n",
      " 0.1646917  0.51513767 0.2555345  0.75986306 0.69566534 0.34051318\n",
      " 0.80854959 0.0545237  0.62731078 0.11677581]\n"
     ]
    }
   ],
   "source": [
    "# Matriz numpy \n",
    "vec = np.random.rand(100)\n",
    "print(vec)\n",
    "vec = np.sin(vec)\n",
    "print(vec)"
   ]
  }
 ],
 "metadata": {
  "kernelspec": {
   "display_name": "Python 3 (ipykernel)",
   "language": "python",
   "name": "python3"
  },
  "language_info": {
   "codemirror_mode": {
    "name": "ipython",
    "version": 3
   },
   "file_extension": ".py",
   "mimetype": "text/x-python",
   "name": "python",
   "nbconvert_exporter": "python",
   "pygments_lexer": "ipython3",
   "version": "3.11.8"
  }
 },
 "nbformat": 4,
 "nbformat_minor": 5
}
